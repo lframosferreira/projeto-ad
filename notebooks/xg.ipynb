{
 "cells": [
  {
   "cell_type": "code",
   "execution_count": 26,
   "metadata": {},
   "outputs": [],
   "source": [
    "import pandas as pd\n",
    "from sklearn.ensemble import RandomForestClassifier\n",
    "from sklearn.model_selection import train_test_split\n",
    "from sklearn.metrics import classification_report\n",
    "from xgboost import XGBClassifier"
   ]
  },
  {
   "cell_type": "code",
   "execution_count": 19,
   "metadata": {},
   "outputs": [],
   "source": [
    "# constans\n",
    "RANDOM_STATE: int = 69420\n",
    "TEST_SIZE: float  = 0.3"
   ]
  },
  {
   "cell_type": "code",
   "execution_count": 29,
   "metadata": {},
   "outputs": [
    {
     "data": {
      "text/html": [
       "<div>\n",
       "<style scoped>\n",
       "    .dataframe tbody tr th:only-of-type {\n",
       "        vertical-align: middle;\n",
       "    }\n",
       "\n",
       "    .dataframe tbody tr th {\n",
       "        vertical-align: top;\n",
       "    }\n",
       "\n",
       "    .dataframe thead th {\n",
       "        text-align: right;\n",
       "    }\n",
       "</style>\n",
       "<table border=\"1\" class=\"dataframe\">\n",
       "  <thead>\n",
       "    <tr style=\"text-align: right;\">\n",
       "      <th></th>\n",
       "      <th>time_seconds</th>\n",
       "      <th>team_id</th>\n",
       "      <th>player_id</th>\n",
       "      <th>start_x</th>\n",
       "      <th>start_y</th>\n",
       "      <th>end_x</th>\n",
       "      <th>end_y</th>\n",
       "      <th>action_id</th>\n",
       "      <th>type_name</th>\n",
       "      <th>result_name</th>\n",
       "      <th>bodypart_name</th>\n",
       "      <th>player_name</th>\n",
       "      <th>shot_distance_from_goal</th>\n",
       "      <th>shot_angle_from_goal</th>\n",
       "    </tr>\n",
       "  </thead>\n",
       "  <tbody>\n",
       "    <tr>\n",
       "      <th>40456</th>\n",
       "      <td>920.241146</td>\n",
       "      <td>2451</td>\n",
       "      <td>15191</td>\n",
       "      <td>90.30</td>\n",
       "      <td>25.16</td>\n",
       "      <td>105.00</td>\n",
       "      <td>30.60</td>\n",
       "      <td>773</td>\n",
       "      <td>shot</td>\n",
       "      <td>fail</td>\n",
       "      <td>foot_right</td>\n",
       "      <td>Y. Mallı</td>\n",
       "      <td>17.153297</td>\n",
       "      <td>0.399890</td>\n",
       "    </tr>\n",
       "    <tr>\n",
       "      <th>40457</th>\n",
       "      <td>1552.626343</td>\n",
       "      <td>2451</td>\n",
       "      <td>14917</td>\n",
       "      <td>95.55</td>\n",
       "      <td>39.44</td>\n",
       "      <td>105.00</td>\n",
       "      <td>37.40</td>\n",
       "      <td>892</td>\n",
       "      <td>shot</td>\n",
       "      <td>success</td>\n",
       "      <td>head/other</td>\n",
       "      <td>R. Knoche</td>\n",
       "      <td>10.903949</td>\n",
       "      <td>0.633651</td>\n",
       "    </tr>\n",
       "    <tr>\n",
       "      <th>40458</th>\n",
       "      <td>1711.659947</td>\n",
       "      <td>2451</td>\n",
       "      <td>134708</td>\n",
       "      <td>73.50</td>\n",
       "      <td>42.16</td>\n",
       "      <td>105.00</td>\n",
       "      <td>34.00</td>\n",
       "      <td>929</td>\n",
       "      <td>shot</td>\n",
       "      <td>fail</td>\n",
       "      <td>foot_right</td>\n",
       "      <td>D. Origi</td>\n",
       "      <td>32.539754</td>\n",
       "      <td>0.237103</td>\n",
       "    </tr>\n",
       "    <tr>\n",
       "      <th>40459</th>\n",
       "      <td>2725.373600</td>\n",
       "      <td>2451</td>\n",
       "      <td>284469</td>\n",
       "      <td>95.55</td>\n",
       "      <td>47.60</td>\n",
       "      <td>105.00</td>\n",
       "      <td>30.60</td>\n",
       "      <td>1134</td>\n",
       "      <td>shot</td>\n",
       "      <td>success</td>\n",
       "      <td>foot_right</td>\n",
       "      <td>J. Brekalo</td>\n",
       "      <td>16.560873</td>\n",
       "      <td>0.284770</td>\n",
       "    </tr>\n",
       "    <tr>\n",
       "      <th>40460</th>\n",
       "      <td>2817.761761</td>\n",
       "      <td>2463</td>\n",
       "      <td>94831</td>\n",
       "      <td>87.15</td>\n",
       "      <td>36.72</td>\n",
       "      <td>87.15</td>\n",
       "      <td>36.72</td>\n",
       "      <td>1148</td>\n",
       "      <td>shot</td>\n",
       "      <td>fail</td>\n",
       "      <td>foot_right</td>\n",
       "      <td>Y. Ōsako</td>\n",
       "      <td>18.056049</td>\n",
       "      <td>0.431645</td>\n",
       "    </tr>\n",
       "  </tbody>\n",
       "</table>\n",
       "</div>"
      ],
      "text/plain": [
       "       time_seconds  team_id  player_id  start_x  start_y   end_x  end_y  \\\n",
       "40456    920.241146     2451      15191    90.30    25.16  105.00  30.60   \n",
       "40457   1552.626343     2451      14917    95.55    39.44  105.00  37.40   \n",
       "40458   1711.659947     2451     134708    73.50    42.16  105.00  34.00   \n",
       "40459   2725.373600     2451     284469    95.55    47.60  105.00  30.60   \n",
       "40460   2817.761761     2463      94831    87.15    36.72   87.15  36.72   \n",
       "\n",
       "       action_id type_name result_name bodypart_name player_name  \\\n",
       "40456        773      shot        fail    foot_right    Y. Mallı   \n",
       "40457        892      shot     success    head/other   R. Knoche   \n",
       "40458        929      shot        fail    foot_right    D. Origi   \n",
       "40459       1134      shot     success    foot_right  J. Brekalo   \n",
       "40460       1148      shot        fail    foot_right    Y. Ōsako   \n",
       "\n",
       "       shot_distance_from_goal  shot_angle_from_goal  \n",
       "40456                17.153297              0.399890  \n",
       "40457                10.903949              0.633651  \n",
       "40458                32.539754              0.237103  \n",
       "40459                16.560873              0.284770  \n",
       "40460                18.056049              0.431645  "
      ]
     },
     "execution_count": 29,
     "metadata": {},
     "output_type": "execute_result"
    }
   ],
   "source": [
    "df: pd.DataFrame = pd.read_csv(\"../data/processed/shots.csv\")\n",
    "df.tail()"
   ]
  },
  {
   "cell_type": "code",
   "execution_count": 28,
   "metadata": {},
   "outputs": [
    {
     "data": {
      "text/plain": [
       "0.10555843899063296"
      ]
     },
     "execution_count": 28,
     "metadata": {},
     "output_type": "execute_result"
    }
   ],
   "source": [
    "df[df[\"result_name\"] == \"success\"].shape[0] / df.shape[0]"
   ]
  },
  {
   "cell_type": "code",
   "execution_count": 25,
   "metadata": {},
   "outputs": [
    {
     "name": "stderr",
     "output_type": "stream",
     "text": [
      "/tmp/ipykernel_851471/3956654651.py:4: SettingWithCopyWarning: \n",
      "A value is trying to be set on a copy of a slice from a DataFrame.\n",
      "Try using .loc[row_indexer,col_indexer] = value instead\n",
      "\n",
      "See the caveats in the documentation: https://pandas.pydata.org/pandas-docs/stable/user_guide/indexing.html#returning-a-view-versus-a-copy\n",
      "  X[\"bodypart_name\"] = X[\"bodypart_name\"].apply(lambda val: 0 if val == \"foot_right\" else 1 if val == \"foot_left\" else 2)\n"
     ]
    }
   ],
   "source": [
    "# Random Forest Classifier\n",
    "rfc = RandomForestClassifier(random_state=RANDOM_STATE)\n",
    "X = df[[\"bodypart_name\", \"shot_distance_from_goal\", \"shot_angle_from_goal\"]]\n",
    "X[\"bodypart_name\"] = X[\"bodypart_name\"].apply(lambda val: 0 if val == \"foot_right\" else 1 if val == \"foot_left\" else 2)\n",
    "y = df[\"result_name\"]\n",
    "\n",
    "X_train, X_test, y_train, y_test = train_test_split(X, y, test_size=TEST_SIZE, random_state=RANDOM_STATE)\n",
    "rfc.fit(X=X_train, y=y_train)\n",
    "y_pred = rfc.predict(X=X_test)\n",
    "classification_report(y_test, y_pred, output_dict=True)"
   ]
  },
  {
   "cell_type": "code",
   "execution_count": 27,
   "metadata": {},
   "outputs": [
    {
     "data": {
      "text/plain": [
       "{'fail': {'precision': 0.9051279885106024,\n",
       "  'recall': 0.9874654377880184,\n",
       "  'f1-score': 0.944505664036673,\n",
       "  'support': 10850.0},\n",
       " 'success': {'precision': 0.5496688741721855,\n",
       "  'recall': 0.1287820015515904,\n",
       "  'f1-score': 0.20867379006913891,\n",
       "  'support': 1289.0},\n",
       " 'accuracy': 0.8962847021995222,\n",
       " 'macro avg': {'precision': 0.7273984313413939,\n",
       "  'recall': 0.5581237196698045,\n",
       "  'f1-score': 0.576589727052906,\n",
       "  'support': 12139.0},\n",
       " 'weighted avg': {'precision': 0.8673829684609922,\n",
       "  'recall': 0.8962847021995222,\n",
       "  'f1-score': 0.8663701268800579,\n",
       "  'support': 12139.0}}"
      ]
     },
     "execution_count": 27,
     "metadata": {},
     "output_type": "execute_result"
    }
   ],
   "source": []
  }
 ],
 "metadata": {
  "kernelspec": {
   "display_name": "projeto-ad",
   "language": "python",
   "name": "python3"
  },
  "language_info": {
   "codemirror_mode": {
    "name": "ipython",
    "version": 3
   },
   "file_extension": ".py",
   "mimetype": "text/x-python",
   "name": "python",
   "nbconvert_exporter": "python",
   "pygments_lexer": "ipython3",
   "version": "3.10.12"
  }
 },
 "nbformat": 4,
 "nbformat_minor": 2
}
