{
 "cells": [
  {
   "cell_type": "code",
   "execution_count": 8,
   "metadata": {},
   "outputs": [],
   "source": [
    "import numpy as np\n",
    "import pandas as pd\n",
    "import socceraction.spadl as spd\n",
    "from tqdm import tqdm\n",
    "import os"
   ]
  },
  {
   "cell_type": "markdown",
   "metadata": {},
   "source": [
    "# Carregando os dados da WyScout"
   ]
  },
  {
   "cell_type": "code",
   "execution_count": 9,
   "metadata": {},
   "outputs": [],
   "source": [
    "def load_matches(path):\n",
    "    matches = pd.read_json(path_or_buf=path)\n",
    "    # as informações dos times de cada partida estão em um dicionário dentro da coluna 'teamsData', então vamos separar essas informações\n",
    "    team_matches = []\n",
    "    for i in range(len(matches)):\n",
    "        match = pd.DataFrame(matches.loc[i, \"teamsData\"]).T\n",
    "        match[\"matchId\"] = matches.loc[i, \"wyId\"]\n",
    "        team_matches.append(match)\n",
    "    team_matches = pd.concat(team_matches).reset_index(drop=True)\n",
    "\n",
    "    return team_matches"
   ]
  },
  {
   "cell_type": "code",
   "execution_count": 10,
   "metadata": {},
   "outputs": [],
   "source": [
    "def load_players(path):\n",
    "    players = pd.read_json(path_or_buf=path)\n",
    "    players[\"player_name\"] = players[\"firstName\"] + ' ' + players[\"lastName\"]\n",
    "    players = players[[\"wyId\", \"player_name\"]].rename(columns={\"wyId\": \"player_id\"})\n",
    "\n",
    "    return players"
   ]
  },
  {
   "cell_type": "code",
   "execution_count": 11,
   "metadata": {},
   "outputs": [],
   "source": [
    "def load_events(path):\n",
    "    events = pd.read_json(path_or_buf=path)\n",
    "    # pré processamento em colunas da tabela de eventos para facilitar a conversão p/ SPADL\n",
    "    events = events.rename(columns={\n",
    "        \"id\": \"event_id\",\n",
    "        \"eventId\": \"type_id\",\n",
    "        \"subEventId\": \"subtype_id\",\n",
    "        \"teamId\": \"team_id\",\n",
    "        \"playerId\": \"player_id\",\n",
    "        \"matchId\": \"game_id\"\n",
    "    })\n",
    "    events[\"milliseconds\"] = events[\"eventSec\"] * 1000\n",
    "    events[\"period_id\"] = events[\"matchPeriod\"].replace({\"1H\": 1, \"2H\": 2})\n",
    "\n",
    "    return events"
   ]
  },
  {
   "cell_type": "code",
   "execution_count": 12,
   "metadata": {},
   "outputs": [],
   "source": [
    "def load_minutes_played_per_game(path):\n",
    "    minutes = pd.read_json(path_or_buf=path)\n",
    "    minutes = minutes.rename(columns={\n",
    "        \"playerId\": \"player_id\",\n",
    "        \"matchId\": \"game_id\",\n",
    "        \"teamId\": \"team_id\",\n",
    "        \"minutesPlayed\": \"minutes_played\"\n",
    "    })\n",
    "    minutes = minutes.drop([\"shortName\", \"teamName\", \"red_card\"], axis=1)\n",
    "\n",
    "    return minutes"
   ]
  },
  {
   "cell_type": "code",
   "execution_count": 13,
   "metadata": {},
   "outputs": [
    {
     "name": "stderr",
     "output_type": "stream",
     "text": [
      "/tmp/ipykernel_82082/2863252574.py:13: FutureWarning: Downcasting behavior in `replace` is deprecated and will be removed in a future version. To retain the old behavior, explicitly call `result.infer_objects(copy=False)`. To opt-in to the future behavior, set `pd.set_option('future.no_silent_downcasting', True)`\n",
      "  events[\"period_id\"] = events[\"matchPeriod\"].replace({\"1H\": 1, \"2H\": 2})\n",
      "/tmp/ipykernel_82082/2863252574.py:13: FutureWarning: Downcasting behavior in `replace` is deprecated and will be removed in a future version. To retain the old behavior, explicitly call `result.infer_objects(copy=False)`. To opt-in to the future behavior, set `pd.set_option('future.no_silent_downcasting', True)`\n",
      "  events[\"period_id\"] = events[\"matchPeriod\"].replace({\"1H\": 1, \"2H\": 2})\n",
      "/tmp/ipykernel_82082/2863252574.py:13: FutureWarning: Downcasting behavior in `replace` is deprecated and will be removed in a future version. To retain the old behavior, explicitly call `result.infer_objects(copy=False)`. To opt-in to the future behavior, set `pd.set_option('future.no_silent_downcasting', True)`\n",
      "  events[\"period_id\"] = events[\"matchPeriod\"].replace({\"1H\": 1, \"2H\": 2})\n",
      "/tmp/ipykernel_82082/2863252574.py:13: FutureWarning: Downcasting behavior in `replace` is deprecated and will be removed in a future version. To retain the old behavior, explicitly call `result.infer_objects(copy=False)`. To opt-in to the future behavior, set `pd.set_option('future.no_silent_downcasting', True)`\n",
      "  events[\"period_id\"] = events[\"matchPeriod\"].replace({\"1H\": 1, \"2H\": 2})\n",
      "/tmp/ipykernel_82082/2863252574.py:13: FutureWarning: Downcasting behavior in `replace` is deprecated and will be removed in a future version. To retain the old behavior, explicitly call `result.infer_objects(copy=False)`. To opt-in to the future behavior, set `pd.set_option('future.no_silent_downcasting', True)`\n",
      "  events[\"period_id\"] = events[\"matchPeriod\"].replace({\"1H\": 1, \"2H\": 2})\n"
     ]
    }
   ],
   "source": [
    "leagues = [\"England\", \"Spain\", \"France\", \"Germany\", \"Italy\"]\n",
    "events = {}\n",
    "matches = {}\n",
    "minutes = {}\n",
    "for league in leagues:\n",
    "    path = f\"../data/wyscout/matches/matches_{league}.json\"\n",
    "    matches[league] = load_matches(path)\n",
    "    path = f\"../data/wyscout/events/events_{league}.json\"\n",
    "    events[league] = load_events(path)\n",
    "    path = f\"../data/wyscout/minutes_played/minutes_played_per_game_{league}.json\"\n",
    "    minutes[league] = load_minutes_played_per_game(path)"
   ]
  },
  {
   "cell_type": "code",
   "execution_count": 14,
   "metadata": {},
   "outputs": [],
   "source": [
    "path = \"../data/wyscout/players/players.json\"\n",
    "players = load_players(path)\n",
    "players[\"player_name\"] = players[\"player_name\"].str.decode(\"unicode-escape\")"
   ]
  },
  {
   "cell_type": "markdown",
   "metadata": {},
   "source": [
    "# Conversão para o formato SPADL"
   ]
  },
  {
   "cell_type": "code",
   "execution_count": 15,
   "metadata": {},
   "outputs": [],
   "source": [
    "def spadl_transform(events, matches):\n",
    "    spadl = []\n",
    "    game_ids = events.game_id.unique().tolist()\n",
    "    for g in tqdm(game_ids):\n",
    "        match_events = events.loc[events.game_id == g]\n",
    "        match_home_id = matches.loc[(matches.matchId == g) & (matches.side == \"home\"), \"teamId\"].values[0]\n",
    "        match_actions = spd.wyscout.convert_to_actions(events=match_events, home_team_id=match_home_id)\n",
    "        match_actions = spd.play_left_to_right(actions=match_actions, home_team_id=match_home_id)\n",
    "        match_actions = spd.add_names(match_actions)\n",
    "        spadl.append(match_actions)\n",
    "    spadl = pd.concat(spadl).reset_index(drop=True)\n",
    "\n",
    "    return spadl"
   ]
  },
  {
   "cell_type": "code",
   "execution_count": 16,
   "metadata": {},
   "outputs": [
    {
     "name": "stderr",
     "output_type": "stream",
     "text": [
      "100%|██████████| 380/380 [01:51<00:00,  3.41it/s]\n",
      "100%|██████████| 380/380 [01:49<00:00,  3.47it/s]\n",
      "100%|██████████| 380/380 [01:44<00:00,  3.62it/s]\n",
      "100%|██████████| 306/306 [01:27<00:00,  3.49it/s]\n",
      "100%|██████████| 380/380 [01:49<00:00,  3.48it/s]\n"
     ]
    }
   ],
   "source": [
    "if not os.path.exists(\"../data/spadl_format\"):\n",
    "    os.makedirs(\"../data/spadl_format\")\n",
    "players: pd.DataFrame = pd.read_json(\"../data/wyscout/players/players.json\")\n",
    "players[\"player_name\"] = players[\"shortName\"].str.decode(\"unicode-escape\")\n",
    "players = players[[\"wyId\", \"player_name\"]].rename(columns={\"wyId\": \"player_id\"})\n",
    "\n",
    "for league in leagues:\n",
    "    df = spadl_transform(events=events[league], matches=matches[league])\n",
    "    df = df.merge(players, on=\"player_id\", how=\"left\")\n",
    "    df.to_csv(f\"../data/spadl_format/{league}.csv\") \n",
    "    "
   ]
  }
 ],
 "metadata": {
  "kernelspec": {
   "display_name": "projeto-ad",
   "language": "python",
   "name": "python3"
  },
  "language_info": {
   "codemirror_mode": {
    "name": "ipython",
    "version": 3
   },
   "file_extension": ".py",
   "mimetype": "text/x-python",
   "name": "python",
   "nbconvert_exporter": "python",
   "pygments_lexer": "ipython3",
   "version": "3.10.14"
  }
 },
 "nbformat": 4,
 "nbformat_minor": 2
}
