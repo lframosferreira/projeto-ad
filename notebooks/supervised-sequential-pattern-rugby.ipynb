{
 "cells": [
  {
   "cell_type": "code",
   "execution_count": null,
   "id": "7da9d803",
   "metadata": {},
   "outputs": [],
   "source": [
    "import pandas as pd\n",
    "import os\n",
    "import numpy as np\n",
    "from math import sqrt"
   ]
  },
  {
   "cell_type": "code",
   "execution_count": null,
   "id": "cdda97fc",
   "metadata": {},
   "outputs": [],
   "source": [
    "pd.set_option(\"display.width\", 220)"
   ]
  },
  {
   "cell_type": "code",
   "execution_count": null,
   "id": "2347c5c3",
   "metadata": {},
   "outputs": [],
   "source": [
    "PATH_ROOT = \"./data\"\n",
    "PATH_SPADL = f\"{PATH_ROOT}/spadl_format\"\n",
    "PATH_WYSCOUT = f\"{PATH_ROOT}/wyscout\"\n",
    "PATH_PROCESSED = f\"{PATH_ROOT}/processed\""
   ]
  },
  {
   "cell_type": "code",
   "execution_count": null,
   "id": "597d902a",
   "metadata": {},
   "outputs": [],
   "source": [
    "LEAGUES: list[str] = [\"England\", \"Spain\", \"France\", \"Italy\", \"Germany\"]"
   ]
  },
  {
   "cell_type": "code",
   "execution_count": null,
   "id": "26f13fff",
   "metadata": {},
   "outputs": [],
   "source": [
    "teams_df = pd.read_json(f\"{PATH_WYSCOUT}/teams/teams.json\")\n",
    "players_df = pd.read_json(f\"{PATH_WYSCOUT}/players/players.json\")\n",
    "ranking_df = pd.read_json(f\"{PATH_WYSCOUT}/playeranks/playeranks.json\")"
   ]
  },
  {
   "cell_type": "code",
   "execution_count": null,
   "id": "15ce7120",
   "metadata": {},
   "outputs": [],
   "source": [
    "df_dict = {}\n",
    "if not os.path.exists(PATH_PROCESSED):\n",
    "    os.mkdir(PATH_PROCESSED)\n",
    "for league in LEAGUES:\n",
    "    df = pd.read_csv(f\"{PATH_SPADL}/{league}.csv\", index_col=0)\n",
    "\n",
    "    # remove not used columns\n",
    "    df.drop(\n",
    "        [\"original_event_id\", \"result_name\", \"bodypart_id\", \"type_id\"],\n",
    "        inplace=True,\n",
    "        axis=1,\n",
    "    )\n",
    "\n",
    "    df_dict[league] = df\n",
    "all_df = pd.concat([df for df in df_dict.values()])\n",
    "all_df"
   ]
  },
  {
   "cell_type": "code",
   "execution_count": null,
   "id": "e5459852",
   "metadata": {},
   "outputs": [],
   "source": [
    "print(all_df[\"type_name\"].unique())"
   ]
  },
  {
   "cell_type": "markdown",
   "id": "a5b764d7",
   "metadata": {},
   "source": [
    "### Pre-Process"
   ]
  },
  {
   "cell_type": "code",
   "execution_count": null,
   "id": "9c6960d1",
   "metadata": {},
   "outputs": [],
   "source": [
    "GOAL_CENTER_X: int = 105\n",
    "GOAL_CENTER_Y: int = 34\n",
    "\n",
    "UPPER_CROSSBAR_X: int = 105\n",
    "UPPER_CROSSBAR_Y: int = 38\n",
    "\n",
    "LOWER_CROSSBAR_X: int = 105\n",
    "LOWER_CROSSBAR_Y: int = 30"
   ]
  },
  {
   "cell_type": "code",
   "execution_count": null,
   "id": "2a42d8ae",
   "metadata": {},
   "outputs": [],
   "source": [
    "def get_shot_angle(shot_pos_x: float, shot_pos_y: float) -> float:\n",
    "    v1 = np.array([UPPER_CROSSBAR_X - shot_pos_x, UPPER_CROSSBAR_Y - shot_pos_y])\n",
    "    v2 = np.array([LOWER_CROSSBAR_X - shot_pos_x, LOWER_CROSSBAR_Y - shot_pos_y])\n",
    "    return np.arccos(np.dot(v1 / np.linalg.norm(v1), v2 / np.linalg.norm(v2)))"
   ]
  },
  {
   "cell_type": "code",
   "execution_count": null,
   "id": "980c4a7b",
   "metadata": {},
   "outputs": [],
   "source": [
    "def get_shot_distance(shot_pos_x: float, shot_pos_y: float) -> float:\n",
    "    return sqrt((shot_pos_x - GOAL_CENTER_X) ** 2 + (shot_pos_y - GOAL_CENTER_Y) ** 2)"
   ]
  },
  {
   "cell_type": "code",
   "execution_count": null,
   "id": "7b8f41cf",
   "metadata": {},
   "outputs": [],
   "source": [
    "actions = [\n",
    "    \"pass\",  # 0\n",
    "    \"interception\",  # 1\n",
    "    \"dribble\",  # 2\n",
    "    \"take_on\",  # 3\n",
    "    \"tackle\",  # 4\n",
    "    \"foul\",  # 5\n",
    "    \"freekick_short\",  # 6\n",
    "    \"cross\",  # 7\n",
    "    \"shot\",  # 8\n",
    "    \"clearance\",  # 9\n",
    "    \"throw_in\",  # 10\n",
    "    \"goalkick\",  # 11\n",
    "    \"corner_short\",  # 12\n",
    "    \"corner_crossed\",  # 13\n",
    "    \"keeper_save\",  # 14\n",
    "    \"freekick_crossed\",  # 15\n",
    "    \"shot_freekick\",  # 16\n",
    "    \"bad_touch\",  # 17\n",
    "    \"shot_penalty\",  # 18\n",
    "]"
   ]
  },
  {
   "cell_type": "code",
   "execution_count": null,
   "id": "f61f870e",
   "metadata": {},
   "outputs": [],
   "source": [
    "def map_action_to_number(action: str) -> str:\n",
    "    return str(actions.index(action))"
   ]
  },
  {
   "cell_type": "code",
   "execution_count": null,
   "id": "9b3be3e6",
   "metadata": {},
   "outputs": [],
   "source": [
    "def generate_shots_with_counts_events(df: pd.DataFrame):\n",
    "    shot_data = []\n",
    "    result_ids = []\n",
    "    grouped = df.groupby([\"game_id\", \"period_id\"])\n",
    "\n",
    "    for (_, _), group in grouped:\n",
    "        group = group.sort_values(by=\"time_seconds\").reset_index(drop=True)\n",
    "        i = 0\n",
    "\n",
    "        while i < len(group):\n",
    "            shot_indices = group[i:].index[group[\"type_name\"][i:] == \"shot\"]\n",
    "            if len(shot_indices) == 0:\n",
    "                break\n",
    "            shot_index = shot_indices[0]\n",
    "\n",
    "            shot_row = group.loc[shot_index]\n",
    "            play_events = group.loc[i:shot_index]\n",
    "\n",
    "            # Encontrar o índice onde o time que fez o chute tomou posse da bola\n",
    "            for j in play_events.index[::-1]:\n",
    "                if play_events.loc[j, \"team_id\"] != shot_row[\"team_id\"]:\n",
    "                    i = j + 1\n",
    "                    break\n",
    "            else:\n",
    "                i = play_events.index[0]\n",
    "\n",
    "            play_events = group.loc[i:shot_index]\n",
    "\n",
    "            shot_data.append(\n",
    "                {\n",
    "                    \"actions\": \" \".join(\n",
    "                        list(\n",
    "                            map(\n",
    "                                lambda x: map_action_to_number(x),\n",
    "                                play_events[\"type_name\"].to_list()[\n",
    "                                    :-1  # remove the actual shot\n",
    "                                ],\n",
    "                            )\n",
    "                        )\n",
    "                    ),\n",
    "                    \"start_x\": round(shot_row[\"start_x\"], 2),\n",
    "                    \"start_y\": round(shot_row[\"start_y\"], 2),\n",
    "                    \"end_x\": round(shot_row[\"end_x\"], 2),\n",
    "                    \"end_y\": round(shot_row[\"end_y\"], 2),\n",
    "                    \"bodypart_name\": shot_row[\"bodypart_name\"],\n",
    "                }\n",
    "            )\n",
    "\n",
    "            result_ids.append(shot_row[\"result_id\"])\n",
    "\n",
    "            # Atualizar o índice de início para a próxima jogada\n",
    "            i = shot_index + 1\n",
    "\n",
    "    shots_df = pd.DataFrame(shot_data)\n",
    "    shots_df[\"shot_distance_from_goal\"] = shots_df.apply(\n",
    "        lambda pos: get_shot_distance(pos[\"start_x\"], pos[\"start_y\"]), axis=1\n",
    "    )\n",
    "    shots_df[\"shot_angle_from_goal\"] = shots_df[[\"start_x\", \"start_y\"]].apply(\n",
    "        lambda pos: get_shot_angle(pos[\"start_x\"], pos[\"start_y\"]), axis=1\n",
    "    )\n",
    "    shots_df[\"result_id\"] = result_ids\n",
    "    return shots_df"
   ]
  },
  {
   "cell_type": "code",
   "execution_count": null,
   "id": "2963b74e",
   "metadata": {},
   "outputs": [],
   "source": [
    "shots_df = generate_shots_with_counts_events(all_df)"
   ]
  },
  {
   "cell_type": "code",
   "execution_count": null,
   "id": "c0dcf6ec",
   "metadata": {},
   "outputs": [],
   "source": [
    "shots_df.head()"
   ]
  },
  {
   "cell_type": "markdown",
   "id": "a61ded4a",
   "metadata": {},
   "source": [
    "## XG"
   ]
  },
  {
   "cell_type": "code",
   "execution_count": null,
   "id": "d411958e",
   "metadata": {},
   "outputs": [],
   "source": [
    "from sklearn.ensemble import RandomForestClassifier\n",
    "from sklearn.model_selection import train_test_split\n",
    "from sklearn.metrics import classification_report"
   ]
  },
  {
   "cell_type": "code",
   "execution_count": null,
   "id": "5b5618f9",
   "metadata": {},
   "outputs": [],
   "source": [
    "RANDOM_STATE = 123\n",
    "TEST_SIZE = 0.3"
   ]
  },
  {
   "cell_type": "code",
   "execution_count": null,
   "id": "77cf386a",
   "metadata": {},
   "outputs": [],
   "source": [
    "shots_df_cp = shots_df.copy()"
   ]
  },
  {
   "cell_type": "code",
   "execution_count": null,
   "id": "9d9161de",
   "metadata": {},
   "outputs": [],
   "source": [
    "rfc = RandomForestClassifier(random_state=RANDOM_STATE)\n",
    "X = shots_df_cp[[\"bodypart_name\", \"shot_distance_from_goal\", \"shot_angle_from_goal\"]]\n",
    "X[\"bodypart_name\"] = X[\"bodypart_name\"].apply(\n",
    "    lambda val: 0 if val == \"foot_right\" else 1 if val == \"foot_left\" else 2\n",
    ")\n",
    "y = shots_df_cp[\"result_id\"]\n",
    "\n",
    "X_train, X_test, y_train, y_test = train_test_split(\n",
    "    X, y, test_size=TEST_SIZE, random_state=RANDOM_STATE\n",
    ")\n",
    "rfc.fit(X=X_train, y=y_train)\n",
    "y_pred = rfc.predict(X=X_test)\n",
    "classification_report(y_test, y_pred, output_dict=True)"
   ]
  },
  {
   "cell_type": "code",
   "execution_count": null,
   "id": "e20f50e7",
   "metadata": {},
   "outputs": [],
   "source": [
    "shots_df_cp[\"xg\"] = rfc.predict(X=X)"
   ]
  },
  {
   "cell_type": "code",
   "execution_count": null,
   "id": "3d580588",
   "metadata": {},
   "outputs": [],
   "source": [
    "ssp_cols_df = pd.DataFrame()\n",
    "ssp_cols_df[\"xg\"] = shots_df_cp[\"xg\"].map(lambda x: str(x) if x == 1 else \"-1\")\n",
    "ssp_cols_df[\"actions\"] = shots_df_cp[\"actions\"]\n",
    "ssp_cols_df.head()"
   ]
  },
  {
   "cell_type": "code",
   "execution_count": null,
   "id": "6da58204",
   "metadata": {},
   "outputs": [],
   "source": [
    "input_df = pd.DataFrame()\n",
    "input_df[\"input\"] = ssp_cols_df[\"xg\"] + \" \" + ssp_cols_df[\"actions\"]\n",
    "input_df"
   ]
  },
  {
   "cell_type": "code",
   "execution_count": null,
   "id": "91a7e48c",
   "metadata": {},
   "outputs": [],
   "source": [
    "input_df.to_csv(\"mining_input_full.txt\", header=None, index=False)"
   ]
  },
  {
   "cell_type": "markdown",
   "id": "fd2f7384",
   "metadata": {},
   "source": [
    "## Binary"
   ]
  },
  {
   "cell_type": "code",
   "execution_count": null,
   "id": "c3e401da",
   "metadata": {},
   "outputs": [],
   "source": [
    "shots_df_cp2 = shots_df.copy()"
   ]
  },
  {
   "cell_type": "code",
   "execution_count": null,
   "id": "8ee44812",
   "metadata": {},
   "outputs": [],
   "source": [
    "shots_df_cp2[\"result_id\"]"
   ]
  },
  {
   "cell_type": "code",
   "execution_count": null,
   "id": "9f0a5c6e",
   "metadata": {},
   "outputs": [],
   "source": [
    "ssp_cols_df = pd.DataFrame()\n",
    "ssp_cols_df[\"result_id\"] = shots_df_cp2[\"result_id\"].map(\n",
    "    lambda x: str(x) if x == 1 else \"-1\"\n",
    ")\n",
    "ssp_cols_df[\"actions\"] = shots_df_cp2[\"actions\"]\n",
    "ssp_cols_df.head()"
   ]
  },
  {
   "cell_type": "code",
   "execution_count": null,
   "id": "e47599d8",
   "metadata": {},
   "outputs": [],
   "source": [
    "input_df = pd.DataFrame()\n",
    "input_df[\"input\"] = ssp_cols_df[\"result_id\"] + \" \" + ssp_cols_df[\"actions\"]\n",
    "input_df"
   ]
  },
  {
   "cell_type": "code",
   "execution_count": null,
   "id": "1b9836f4",
   "metadata": {},
   "outputs": [],
   "source": [
    "input_df.to_csv(\"mining_input_full_bin.txt\", header=None, index=False)"
   ]
  },
  {
   "cell_type": "markdown",
   "id": "aa786518",
   "metadata": {},
   "source": [
    "## VAEP"
   ]
  },
  {
   "cell_type": "code",
   "execution_count": null,
   "id": "19f4fd19",
   "metadata": {},
   "outputs": [],
   "source": [
    "from tqdm import tqdm\n",
    "from socceraction.vaep import features as ft\n",
    "import socceraction.vaep.labels as lab\n",
    "import socceraction.vaep.formula as fm\n",
    "import xgboost as xgb\n",
    "import sklearn.metrics as mt"
   ]
  },
  {
   "cell_type": "code",
   "execution_count": null,
   "id": "6f9e17b0",
   "metadata": {},
   "outputs": [],
   "source": [
    "def features_transform(spadl):\n",
    "    spadl.loc[spadl.result_id.isin([2, 3]), [\"result_id\"]] = 0\n",
    "    spadl.loc[spadl.result_name.isin([\"offside\", \"owngoal\"]), [\"result_name\"]] = \"fail\"\n",
    "\n",
    "    xfns = [\n",
    "        ft.actiontype_onehot,\n",
    "        ft.bodypart_onehot,\n",
    "        ft.result_onehot,\n",
    "        ft.goalscore,\n",
    "        ft.startlocation,\n",
    "        ft.endlocation,\n",
    "        ft.team,\n",
    "        ft.time,\n",
    "        ft.time_delta,\n",
    "    ]\n",
    "\n",
    "    features = []\n",
    "    for game in tqdm(np.unique(spadl.game_id).tolist()):\n",
    "        match_actions = spadl.loc[spadl.game_id == game].reset_index(drop=True)\n",
    "        match_states = ft.gamestates(actions=match_actions)\n",
    "        match_feats = pd.concat([fn(match_states) for fn in xfns], axis=1)\n",
    "        features.append(match_feats)\n",
    "    features = pd.concat(features).reset_index(drop=True)\n",
    "\n",
    "    return features\n",
    "\n",
    "\n",
    "def labels_transform(spadl):\n",
    "    yfns = [lab.scores, lab.concedes]\n",
    "\n",
    "    labels = []\n",
    "    for game in tqdm(np.unique(spadl.game_id).tolist()):\n",
    "        match_actions = spadl.loc[spadl.game_id == game].reset_index(drop=True)\n",
    "        labels.append(pd.concat([fn(actions=match_actions) for fn in yfns], axis=1))\n",
    "\n",
    "    labels = pd.concat(labels).reset_index(drop=True)\n",
    "\n",
    "    return labels\n",
    "\n",
    "\n",
    "def train_vaep(X_train, y_train, X_test, y_test):\n",
    "    models = {}\n",
    "    for m in [\"scores\", \"concedes\"]:\n",
    "        models[m] = xgb.XGBClassifier(random_state=0, n_estimators=50, max_depth=3)\n",
    "\n",
    "        print(\"training \" + m + \" model\")\n",
    "        models[m].fit(X_train, y_train[m])\n",
    "\n",
    "        p = sum(y_train[m]) / len(y_train[m])\n",
    "        base = [p] * len(y_train[m])\n",
    "        y_train_pred = models[m].predict_proba(X_train)[:, 1]\n",
    "        train_brier = mt.brier_score_loss(\n",
    "            y_train[m], y_train_pred\n",
    "        ) / mt.brier_score_loss(y_train[m], base)\n",
    "        print(m + \" Train NBS: \" + str(train_brier))\n",
    "        print()\n",
    "\n",
    "        p = sum(y_test[m]) / len(y_test[m])\n",
    "        base = [p] * len(y_test[m])\n",
    "        y_test_pred = models[m].predict_proba(X_test)[:, 1]\n",
    "        test_brier = mt.brier_score_loss(y_test[m], y_test_pred) / mt.brier_score_loss(\n",
    "            y_test[m], base\n",
    "        )\n",
    "        print(m + \" Test NBS: \" + str(test_brier))\n",
    "        print()\n",
    "\n",
    "        print(\"----------------------------------------\")\n",
    "\n",
    "    return models\n",
    "\n",
    "\n",
    "def generate_predictions(features, models):\n",
    "    preds = {}\n",
    "    for m in [\"scores\", \"concedes\"]:\n",
    "        preds[m] = models[m].predict_proba(features)[:, 1]\n",
    "    preds = pd.DataFrame(preds)\n",
    "\n",
    "    return preds\n",
    "\n",
    "\n",
    "def calculate_action_values(spadl, predictions):\n",
    "    action_values = fm.value(\n",
    "        actions=spadl, Pscores=predictions[\"scores\"], Pconcedes=predictions[\"concedes\"]\n",
    "    )\n",
    "    action_values = pd.concat(\n",
    "        [\n",
    "            spadl[\n",
    "                [\n",
    "                    \"original_event_id\",\n",
    "                    \"player_id\",\n",
    "                    \"action_id\",\n",
    "                    \"game_id\",\n",
    "                    \"start_x\",\n",
    "                    \"start_y\",\n",
    "                    \"end_x\",\n",
    "                    \"end_y\",\n",
    "                    \"type_name\",\n",
    "                    \"result_name\",\n",
    "                ]\n",
    "            ],\n",
    "            predictions.rename(columns={\"scores\": \"Pscores\", \"concedes\": \"Pconcedes\"}),\n",
    "            action_values,\n",
    "        ],\n",
    "        axis=1,\n",
    "    )\n",
    "\n",
    "    return action_values"
   ]
  },
  {
   "cell_type": "code",
   "execution_count": null,
   "id": "7ea5fd3c",
   "metadata": {},
   "outputs": [],
   "source": [
    "spadl = {}\n",
    "for league in LEAGUES:\n",
    "    spadl[league] = pd.read_csv(f\"{PATH_SPADL}/{league}.csv\")\n",
    "\n",
    "features = {}\n",
    "for league in LEAGUES:\n",
    "    features[league] = features_transform(spadl[league])\n",
    "\n",
    "labels = {}\n",
    "for league in LEAGUES:\n",
    "    labels[league] = labels_transform(spadl[league])\n",
    "\n",
    "models = train_vaep(\n",
    "    X_train=features[\"England\"],\n",
    "    y_train=labels[\"England\"],\n",
    "    X_test=features[\"Spain\"],\n",
    "    y_test=labels[\"Spain\"],\n",
    ")"
   ]
  },
  {
   "cell_type": "code",
   "execution_count": null,
   "id": "4b209896",
   "metadata": {},
   "outputs": [],
   "source": [
    "preds = {}\n",
    "action_values = {}\n",
    "\n",
    "for league in LEAGUES:\n",
    "    preds[league] = generate_predictions(features=features[league], models=models)\n",
    "    action_values[league] = calculate_action_values(\n",
    "        spadl=spadl[league], predictions=preds[league]\n",
    "    )\n",
    "\n",
    "all_action_values = pd.concat([df for df in action_values.values()])"
   ]
  },
  {
   "cell_type": "code",
   "execution_count": null,
   "id": "8273c146",
   "metadata": {},
   "outputs": [],
   "source": [
    "shots_df_cp3 = shots_df.copy()\n",
    "all_action_values_cp = all_action_values.copy()\n",
    "all_action_values_cp.drop(\n",
    "    [\"original_event_id\", \"result_name\", \"action_id\", \"type_name\"], inplace=True, axis=1\n",
    ")\n",
    "\n",
    "shots_df_cp3 = shots_df_cp3.merge(\n",
    "    all_action_values_cp,\n",
    "    on=[\"game_id\", \"player_id\", \"start_x\", \"start_y\", \"end_x\", \"end_y\"],\n",
    "    how=\"left\",\n",
    ")\n",
    "\n",
    "# Exibir o dataframe resultante\n",
    "shots_df_cp3.head()"
   ]
  },
  {
   "cell_type": "code",
   "execution_count": null,
   "id": "b1271b40",
   "metadata": {
    "lines_to_next_cell": 0
   },
   "outputs": [],
   "source": [
    "shots_df_cp3.drop(\n",
    "    [\"game_id\", \"player_id\", \"result_id\"],\n",
    "    inplace=True,\n",
    "    axis=1,\n",
    ")"
   ]
  },
  {
   "cell_type": "code",
   "execution_count": null,
   "id": "e5be7006",
   "metadata": {},
   "outputs": [],
   "source": [
    "save_df = pd.DataFrame()\n",
    "save_df[\"scores\"] = shots_df_cp3[\"Pscores\"].map(lambda x: \"1\" if x > 0.5 else \"-1\")\n",
    "save_df[\"actions\"] = shots_df_cp3[\"actions\"]"
   ]
  },
  {
   "cell_type": "code",
   "execution_count": null,
   "id": "d55e14c9",
   "metadata": {},
   "outputs": [],
   "source": [
    "input_df = pd.DataFrame()\n",
    "input_df[\"input\"] = save_df[\"scores\"] + \" \" + save_df[\"actions\"]\n",
    "input_df"
   ]
  },
  {
   "cell_type": "code",
   "execution_count": null,
   "id": "f825e63d",
   "metadata": {},
   "outputs": [],
   "source": [
    "input_df.to_csv(\"mining_input_full_vaep.txt\", header=None, index=False)"
   ]
  }
 ],
 "metadata": {
  "kernelspec": {
   "display_name": "Python 3",
   "language": "python",
   "name": "python3"
  },
  "language_info": {
   "codemirror_mode": {
    "name": "ipython"
   },
   "file_extension": ".py",
   "mimetype": "text/x-python",
   "name": "python",
   "nbconvert_exporter": "python",
   "pygments_lexer": "ipython3"
  }
 },
 "nbformat": 4,
 "nbformat_minor": 5
}
