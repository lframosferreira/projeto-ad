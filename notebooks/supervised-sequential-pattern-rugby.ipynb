{
 "cells": [
  {
   "cell_type": "code",
   "execution_count": null,
   "id": "7da9d803",
   "metadata": {},
   "outputs": [],
   "source": [
    "import pandas as pd\n",
    "import os\n",
    "import numpy as np\n",
    "from math import sqrt"
   ]
  },
  {
   "cell_type": "code",
   "execution_count": null,
   "id": "cdda97fc",
   "metadata": {},
   "outputs": [],
   "source": [
    "pd.set_option(\"display.width\", 220)"
   ]
  },
  {
   "cell_type": "code",
   "execution_count": null,
   "id": "2347c5c3",
   "metadata": {},
   "outputs": [],
   "source": [
    "PATH_ROOT = \"./data\"\n",
    "PATH_SPADL = f\"{PATH_ROOT}/spadl_format\"\n",
    "PATH_WYSCOUT = f\"{PATH_ROOT}/wyscout\"\n",
    "PATH_PROCESSED = f\"{PATH_ROOT}/processed\""
   ]
  },
  {
   "cell_type": "code",
   "execution_count": null,
   "id": "597d902a",
   "metadata": {},
   "outputs": [],
   "source": [
    "LEAGUES: list[str] = [\"England\", \"Spain\", \"France\", \"Italy\", \"Germany\"]"
   ]
  },
  {
   "cell_type": "code",
   "execution_count": null,
   "id": "26f13fff",
   "metadata": {},
   "outputs": [],
   "source": [
    "teams_df = pd.read_json(f\"{PATH_WYSCOUT}/teams/teams.json\")\n",
    "players_df = pd.read_json(f\"{PATH_WYSCOUT}/players/players.json\")\n",
    "ranking_df = pd.read_json(f\"{PATH_WYSCOUT}/playeranks/playeranks.json\")"
   ]
  },
  {
   "cell_type": "code",
   "execution_count": null,
   "id": "15ce7120",
   "metadata": {},
   "outputs": [],
   "source": [
    "df_dict = {}\n",
    "if not os.path.exists(PATH_PROCESSED):\n",
    "    os.mkdir(PATH_PROCESSED)\n",
    "for league in LEAGUES:\n",
    "    df = pd.read_csv(f\"{PATH_SPADL}/{league}.csv\", index_col=0)\n",
    "\n",
    "    # remove not used columns\n",
    "    df.drop(\n",
    "        [\"original_event_id\", \"result_name\", \"bodypart_id\", \"type_id\"],\n",
    "        inplace=True,\n",
    "        axis=1,\n",
    "    )\n",
    "\n",
    "    df_dict[league] = df\n",
    "all_df = pd.concat([df for df in df_dict.values()])\n",
    "all_df"
   ]
  },
  {
   "cell_type": "code",
   "execution_count": null,
   "id": "e5459852",
   "metadata": {},
   "outputs": [],
   "source": [
    "print(all_df[\"type_name\"].unique())"
   ]
  },
  {
   "cell_type": "markdown",
   "id": "a5b764d7",
   "metadata": {},
   "source": [
    "### Pre-Process"
   ]
  },
  {
   "cell_type": "code",
   "execution_count": null,
   "id": "9c6960d1",
   "metadata": {},
   "outputs": [],
   "source": [
    "GOAL_CENTER_X: int = 105\n",
    "GOAL_CENTER_Y: int = 34\n",
    "\n",
    "UPPER_CROSSBAR_X: int = 105\n",
    "UPPER_CROSSBAR_Y: int = 38\n",
    "\n",
    "LOWER_CROSSBAR_X: int = 105\n",
    "LOWER_CROSSBAR_Y: int = 30"
   ]
  },
  {
   "cell_type": "code",
   "execution_count": null,
   "id": "2a42d8ae",
   "metadata": {},
   "outputs": [],
   "source": [
    "def get_shot_angle(shot_pos_x: float, shot_pos_y: float) -> float:\n",
    "    v1 = np.array([UPPER_CROSSBAR_X - shot_pos_x, UPPER_CROSSBAR_Y - shot_pos_y])\n",
    "    v2 = np.array([LOWER_CROSSBAR_X - shot_pos_x, LOWER_CROSSBAR_Y - shot_pos_y])\n",
    "    return np.arccos(np.dot(v1 / np.linalg.norm(v1), v2 / np.linalg.norm(v2)))"
   ]
  },
  {
   "cell_type": "code",
   "execution_count": null,
   "id": "980c4a7b",
   "metadata": {},
   "outputs": [],
   "source": [
    "def get_shot_distance(shot_pos_x: float, shot_pos_y: float) -> float:\n",
    "    return sqrt((shot_pos_x - GOAL_CENTER_X) ** 2 + (shot_pos_y - GOAL_CENTER_Y) ** 2)"
   ]
  },
  {
   "cell_type": "code",
   "execution_count": null,
   "id": "7b8f41cf",
   "metadata": {},
   "outputs": [],
   "source": [
    "actions = [\n",
    "    \"pass\",  # 0\n",
    "    \"interception\",  # 1\n",
    "    \"dribble\",  # 2\n",
    "    \"take_on\",  # 3\n",
    "    \"tackle\",  # 4\n",
    "    \"foul\",  # 5\n",
    "    \"freekick_short\",  # 6\n",
    "    \"cross\",  # 7\n",
    "    \"shot\",  # 8\n",
    "    \"clearance\",  # 9\n",
    "    \"throw_in\",  # 10\n",
    "    \"goalkick\",  # 11\n",
    "    \"corner_short\",  # 12\n",
    "    \"corner_crossed\",  # 13\n",
    "    \"keeper_save\",  # 14\n",
    "    \"freekick_crossed\",  # 15\n",
    "    \"shot_freekick\",  # 16\n",
    "    \"bad_touch\",  # 17\n",
    "    \"shot_penalty\",  # 18\n",
    "]"
   ]
  },
  {
   "cell_type": "code",
   "execution_count": null,
   "id": "f61f870e",
   "metadata": {},
   "outputs": [],
   "source": [
    "def map_action_to_number(action: str) -> str:\n",
    "    return str(actions.index(action))"
   ]
  },
  {
   "cell_type": "code",
   "execution_count": null,
   "id": "9b3be3e6",
   "metadata": {},
   "outputs": [],
   "source": [
    "def generate_shots_with_counts_events(df: pd.DataFrame):\n",
    "    shot_data = []\n",
    "    result_ids = []\n",
    "    grouped = df.groupby([\"game_id\", \"period_id\"])\n",
    "\n",
    "    for (_, _), group in grouped:\n",
    "        group = group.sort_values(by=\"time_seconds\").reset_index(drop=True)\n",
    "        i = 0\n",
    "\n",
    "        while i < len(group):\n",
    "            shot_indices = group[i:].index[group[\"type_name\"][i:] == \"shot\"]\n",
    "            if len(shot_indices) == 0:\n",
    "                break\n",
    "            shot_index = shot_indices[0]\n",
    "\n",
    "            shot_row = group.loc[shot_index]\n",
    "            play_events = group.loc[i:shot_index]\n",
    "\n",
    "            # Encontrar o índice onde o time que fez o chute tomou posse da bola\n",
    "            for j in play_events.index[::-1]:\n",
    "                if play_events.loc[j, \"team_id\"] != shot_row[\"team_id\"]:\n",
    "                    i = j + 1\n",
    "                    break\n",
    "            else:\n",
    "                i = play_events.index[0]\n",
    "\n",
    "            play_events = group.loc[i:shot_index]\n",
    "\n",
    "            shot_data.append(\n",
    "                {\n",
    "                    \"actions\": \" \".join(\n",
    "                        list(\n",
    "                            map(\n",
    "                                lambda x: map_action_to_number(x),\n",
    "                                play_events[\"type_name\"].to_list()[\n",
    "                                    :-1  # remove the actual shot\n",
    "                                ],\n",
    "                            )\n",
    "                        )\n",
    "                    ),\n",
    "                    \"start_x\": round(shot_row[\"start_x\"], 2),\n",
    "                    \"start_y\": round(shot_row[\"start_y\"], 2),\n",
    "                    \"end_x\": round(shot_row[\"end_x\"], 2),\n",
    "                    \"end_y\": round(shot_row[\"end_y\"], 2),\n",
    "                    \"bodypart_name\": shot_row[\"bodypart_name\"],\n",
    "                }\n",
    "            )\n",
    "\n",
    "            result_ids.append(shot_row[\"result_id\"])\n",
    "\n",
    "            # Atualizar o índice de início para a próxima jogada\n",
    "            i = shot_index + 1\n",
    "\n",
    "    shots_df = pd.DataFrame(shot_data)\n",
    "    shots_df[\"shot_distance_from_goal\"] = shots_df.apply(\n",
    "        lambda pos: get_shot_distance(pos[\"start_x\"], pos[\"start_y\"]), axis=1\n",
    "    )\n",
    "    shots_df[\"shot_angle_from_goal\"] = shots_df[[\"start_x\", \"start_y\"]].apply(\n",
    "        lambda pos: get_shot_angle(pos[\"start_x\"], pos[\"start_y\"]), axis=1\n",
    "    )\n",
    "    shots_df[\"result_id\"] = result_ids\n",
    "    return shots_df"
   ]
  },
  {
   "cell_type": "code",
   "execution_count": null,
   "id": "2963b74e",
   "metadata": {},
   "outputs": [],
   "source": [
    "shots_df = generate_shots_with_counts_events(all_df)"
   ]
  },
  {
   "cell_type": "code",
   "execution_count": null,
   "id": "c0dcf6ec",
   "metadata": {},
   "outputs": [],
   "source": [
    "shots_df.head()"
   ]
  },
  {
   "cell_type": "markdown",
   "id": "a61ded4a",
   "metadata": {},
   "source": [
    "## XG"
   ]
  },
  {
   "cell_type": "code",
   "execution_count": null,
   "id": "d411958e",
   "metadata": {},
   "outputs": [],
   "source": [
    "from sklearn.ensemble import RandomForestClassifier\n",
    "from sklearn.model_selection import train_test_split\n",
    "from sklearn.metrics import classification_report"
   ]
  },
  {
   "cell_type": "code",
   "execution_count": null,
   "id": "5b5618f9",
   "metadata": {},
   "outputs": [],
   "source": [
    "RANDOM_STATE = 123\n",
    "TEST_SIZE = 0.3"
   ]
  },
  {
   "cell_type": "code",
   "execution_count": null,
   "id": "77cf386a",
   "metadata": {},
   "outputs": [],
   "source": [
    "shots_df_cp = shots_df.copy()"
   ]
  },
  {
   "cell_type": "code",
   "execution_count": null,
   "id": "9d9161de",
   "metadata": {},
   "outputs": [],
   "source": [
    "rfc = RandomForestClassifier(random_state=RANDOM_STATE)\n",
    "X = shots_df_cp[[\"bodypart_name\", \"shot_distance_from_goal\", \"shot_angle_from_goal\"]]\n",
    "X[\"bodypart_name\"] = X[\"bodypart_name\"].apply(\n",
    "    lambda val: 0 if val == \"foot_right\" else 1 if val == \"foot_left\" else 2\n",
    ")\n",
    "y = shots_df_cp[\"result_id\"]\n",
    "\n",
    "X_train, X_test, y_train, y_test = train_test_split(\n",
    "    X, y, test_size=TEST_SIZE, random_state=RANDOM_STATE\n",
    ")\n",
    "rfc.fit(X=X_train, y=y_train)\n",
    "y_pred = rfc.predict(X=X_test)\n",
    "classification_report(y_test, y_pred, output_dict=True)"
   ]
  },
  {
   "cell_type": "code",
   "execution_count": null,
   "id": "e20f50e7",
   "metadata": {},
   "outputs": [],
   "source": [
    "shots_df_cp[\"xg\"] = rfc.predict(X=X)"
   ]
  },
  {
   "cell_type": "code",
   "execution_count": null,
   "id": "3d580588",
   "metadata": {},
   "outputs": [],
   "source": [
    "ssp_cols_df = pd.DataFrame()\n",
    "ssp_cols_df[\"xg\"] = shots_df_cp[\"xg\"].map(lambda x: str(x) if x == 1 else \"-1\")\n",
    "ssp_cols_df[\"actions\"] = shots_df_cp[\"actions\"]\n",
    "ssp_cols_df.head()"
   ]
  },
  {
   "cell_type": "code",
   "execution_count": null,
   "id": "6da58204",
   "metadata": {},
   "outputs": [],
   "source": [
    "input_df = pd.DataFrame()\n",
    "input_df[\"input\"] = ssp_cols_df[\"xg\"] + \" \" + ssp_cols_df[\"actions\"]\n",
    "input_df"
   ]
  },
  {
   "cell_type": "code",
   "execution_count": null,
   "id": "91a7e48c",
   "metadata": {
    "lines_to_next_cell": 0
   },
   "outputs": [],
   "source": [
    "input_df.to_csv(\"mining_input_full.txt\", header=None, index=False)"
   ]
  },
  {
   "cell_type": "markdown",
   "id": "0128b384",
   "metadata": {},
   "source": []
  }
 ],
 "metadata": {
  "kernelspec": {
   "display_name": "Python 3",
   "language": "python",
   "name": "python3"
  },
  "language_info": {
   "codemirror_mode": {
    "name": "ipython"
   },
   "file_extension": ".py",
   "mimetype": "text/x-python",
   "name": "python",
   "nbconvert_exporter": "python",
   "pygments_lexer": "ipython3"
  }
 },
 "nbformat": 4,
 "nbformat_minor": 5
}
